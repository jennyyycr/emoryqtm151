{
 "cells": [
  {
   "attachments": {},
   "cell_type": "markdown",
   "metadata": {},
   "source": [
    "# <span style=\"color:darkblue\"> Lecture 6: Applications 1 - Simulation Studies </span>"
   ]
  },
  {
   "attachments": {},
   "cell_type": "markdown",
   "metadata": {},
   "source": [
    "<font size=\"5\"> \n",
    "\n",
    "In the previous class we:\n",
    "- Introduced boolean types and if/else statments\n",
    "- Introduced a type of structure with indendented code"
   ]
  },
  {
   "attachments": {},
   "cell_type": "markdown",
   "metadata": {},
   "source": [
    "<font size=\"5\"> \n",
    "\n",
    "In this class we will:\n",
    "\n",
    "- Talk about basic manipulation of lists\n",
    "- Introduce \"For\" Loops and examples of key algorithms"
   ]
  },
  {
   "attachments": {},
   "cell_type": "markdown",
   "metadata": {},
   "source": [
    "## <span style=\"color:darkblue\"> I. Import Libraries </span>"
   ]
  },
  {
   "cell_type": "code",
   "execution_count": 1,
   "metadata": {},
   "outputs": [],
   "source": [
    "# the \"numPy\" library is used for mathematical operations\n",
    "# the \"matplotlib\" library is for generating graphs\n",
    "# the \"pandas\" library is for manipualting datasets\n",
    "\n",
    "import numpy as np\n",
    "import matplotlib.pyplot as plt\n",
    "import pandas as pd\n"
   ]
  },
  {
   "attachments": {},
   "cell_type": "markdown",
   "metadata": {},
   "source": [
    "## <span style=\"color:darkblue\"> II. Visualizing Random Variables </span>"
   ]
  },
  {
   "attachments": {},
   "cell_type": "markdown",
   "metadata": {},
   "source": [
    "<font size = \"5\" >\n",
    "\n",
    "Consider a sample with $n$ observations\n",
    "\n",
    "$ X = \\begin{pmatrix} X_1 \\\\ X_2 \\\\ \\vdots \\\\ X_n \\end{pmatrix}.$"
   ]
  },
  {
   "attachments": {},
   "cell_type": "markdown",
   "metadata": {},
   "source": [
    "<font size = \"5\" > We can simulate from different distributions"
   ]
  },
  {
   "cell_type": "code",
   "execution_count": 2,
   "metadata": {},
   "outputs": [],
   "source": [
    "# Set Sample size \n",
    "# These produce several common distributions\n",
    "# A normam with \"loc\" and standard deviation \"5\"\n",
    "# A chi-square with \"df\" degrees of freedom\n",
    "# A uniform with values between -3 and 5\n",
    "\n",
    "n = 10000\n",
    "\n",
    "vec_normal  = np.random.normal(loc = 5, scale = 5, size = n)\n",
    "vec_chisqr  = np.random.chisquare(df = 1, size = n)\n",
    "vec_unif    = np.random.uniform(low = -3,high = 5, size = n)\n",
    "\n"
   ]
  },
  {
   "attachments": {},
   "cell_type": "markdown",
   "metadata": {},
   "source": [
    "<font size = \"5\">\n",
    "\n",
    "The sample average is defined as \n",
    "\n",
    "$ \\bar{X} = \\frac{1}{n}\\sum_i X_i $"
   ]
  },
  {
   "cell_type": "code",
   "execution_count": 3,
   "metadata": {},
   "outputs": [
    {
     "name": "stdout",
     "output_type": "stream",
     "text": [
      "4.951738311000048\n",
      "0.9877371794275412\n",
      "0.9846522309337923\n"
     ]
    }
   ],
   "source": [
    "# Let's print of each of the above random variables\n",
    "\n",
    "print(vec_normal.mean())\n",
    "print(vec_chisqr.mean())\n",
    "print(vec_unif.mean())"
   ]
  },
  {
   "attachments": {},
   "cell_type": "markdown",
   "metadata": {},
   "source": [
    "<font size = \"5\" >\n",
    "\n",
    "Multiple plots in a row (subplot)\n",
    "\n",
    "- The normal has more of a bell shape\n",
    "- The uniform is a rectangular shape"
   ]
  },
  {
   "cell_type": "code",
   "execution_count": 4,
   "metadata": {},
   "outputs": [
    {
     "data": {
      "text/plain": [
       "Text(209.61818181818177, 0.5, 'Frequency')"
      ]
     },
     "execution_count": 4,
     "metadata": {},
     "output_type": "execute_result"
    },
    {
     "data": {
      "image/png": "[encoded data removed]",
      "text/plain": [
       "<Figure size 432x216 with 2 Axes>"
      ]
     },
     "metadata": {
      "needs_background": "light"
     },
     "output_type": "display_data"
    }
   ],
   "source": [
    "#------------------------ Setting up subplots----------------------------------#\n",
    "# Create a plot with 1 row, 2 columns\n",
    "# You will create a list of subfigures \"list_subfig\"\n",
    "# You can choose whichever name you like\n",
    "# The option \"figsize\" indicates the (width,height) of the graph\n",
    "fig, list_subfig = plt.subplots(1, 2,figsize = (6,3))\n",
    "\n",
    "# The tight layout option ensures that the axes are not overlapping\n",
    "plt.tight_layout()\n",
    "\n",
    "\n",
    "# First Figure\n",
    "list_subfig[0].hist(x = vec_normal)\n",
    "list_subfig[0].set_title(\"Normal Distribution\")\n",
    "list_subfig[0].set_xlabel(\"Value\")\n",
    "list_subfig[0].set_ylabel(\"Frequency\")\n",
    "\n",
    "# Second Figure\n",
    "list_subfig[1].hist(x = vec_unif)\n",
    "list_subfig[1].set_title(\"Uniform Distribution\")\n",
    "list_subfig[1].set_xlabel(\"Value\")\n",
    "list_subfig[1].set_ylabel(\"Frequency\")\n",
    "\n",
    "# Note:\n",
    "# Use the set_title() function for the title of subfigures\n",
    "# Similarly, use \"set_xlabel()\" and \"set_ylabel()\"\n",
    "\n"
   ]
  },
  {
   "attachments": {},
   "cell_type": "markdown",
   "metadata": {},
   "source": [
    "<font size = \"5\">\n",
    "\n",
    "Try it yourself!\n",
    "\n",
    "- Do a version with three plots in the same row\n",
    "- What happens if you remove the \"plt.tight_layout()\" command?\n",
    "- What happens if you change the \"figsize\"?"
   ]
  },
  {
   "cell_type": "code",
   "execution_count": 6,
   "metadata": {},
   "outputs": [
    {
     "data": {
      "text/plain": [
       "Text(263.3294117647059, 0.5, 'Frequency')"
      ]
     },
     "execution_count": 6,
     "metadata": {},
     "output_type": "execute_result"
    },
    {
     "data": {
      "image/png": "[encoded data removed]",
      "text/plain": [
       "<Figure size 432x216 with 3 Axes>"
      ]
     },
     "metadata": {
      "needs_background": "light"
     },
     "output_type": "display_data"
    }
   ],
   "source": [
    "# Write down your solution\n",
    "\n",
    "fig, list_subfig = plt.subplots(1, 3,figsize = (6,3))\n",
    "\n",
    "plt.tight_layout()\n",
    "\n",
    "\n",
    "# First Figure\n",
    "list_subfig[0].hist(x = vec_normal)\n",
    "list_subfig[0].set_title(\"Normal Distribution\")\n",
    "list_subfig[0].set_xlabel(\"Value\")\n",
    "list_subfig[0].set_ylabel(\"Frequency\")\n",
    "\n",
    "# Second Figure\n",
    "list_subfig[1].hist(x = vec_unif)\n",
    "list_subfig[1].set_title(\"Uniform Distribution\")\n",
    "list_subfig[1].set_xlabel(\"Value\")\n",
    "list_subfig[1].set_ylabel(\"Frequency\")\n",
    "\n",
    "# Third Figure\n",
    "list_subfig[2].hist(x = vec_chisqr)\n",
    "list_subfig[2].set_title(\"Chi Square Distribution\")\n",
    "list_subfig[2].set_xlabel(\"Value\")\n",
    "list_subfig[2].set_ylabel(\"Frequency\")\n",
    "\n"
   ]
  },
  {
   "attachments": {},
   "cell_type": "markdown",
   "metadata": {},
   "source": [
    "## <span style=\"color:darkblue\"> III. Singe Loops </span>"
   ]
  },
  {
   "attachments": {},
   "cell_type": "markdown",
   "metadata": {},
   "source": [
    "<font size = \"5\">\n",
    "\n",
    "Simple sequences: $[0,1,2,...,n-1]$"
   ]
  },
  {
   "cell_type": "code",
   "execution_count": 33,
   "metadata": {},
   "outputs": [
    {
     "name": "stdout",
     "output_type": "stream",
     "text": [
      "[0, 1, 2, 3, 4, 5, 6, 7, 8, 9]\n"
     ]
    }
   ],
   "source": [
    "# Use \"list(range(n))\" to create a list from 0 to (n-1).\n",
    "\n",
    "n= 10\n",
    "list_zero_ten = list(range(n))\n",
    "print(list_zero_ten)"
   ]
  },
  {
   "attachments": {},
   "cell_type": "markdown",
   "metadata": {},
   "source": [
    "<font size = \"5\">\n",
    "\n",
    "What happens to $\\bar{X}$ if we draw different samples?"
   ]
  },
  {
   "cell_type": "code",
   "execution_count": 9,
   "metadata": {},
   "outputs": [
    {
     "name": "stdout",
     "output_type": "stream",
     "text": [
      "[0, 1, 2, 3]\n"
     ]
    }
   ],
   "source": [
    "vec_xbar = [None, None, None, None]\n",
    "print(list(range(4)))\n",
    "sample_size = 20\n",
    "\n",
    "#At iteration 0\n",
    "vec_unif = np.random.uniform(low= -2, high =2, size=sample_size)\n",
    "vec_xbar[0] = vec_unif.mean()\n",
    "\n",
    "vec_unif = np.random.uniform(low= -2, high =2, size=sample_size)\n",
    "vec_xbar[1] = vec_unif.mean()\n",
    "\n"
   ]
  },
  {
   "cell_type": "code",
   "execution_count": 34,
   "metadata": {},
   "outputs": [
    {
     "data": {
      "image/png": "[encoded data removed]",
      "text/plain": [
       "<Figure size 640x480 with 1 Axes>"
      ]
     },
     "metadata": {},
     "output_type": "display_data"
    }
   ],
   "source": [
    "# We will draw random sample \"num_simulations\" times\n",
    "# Each time we will create a random vector of size \"sample_size\"\n",
    "# In this example we will generate values from a uniform between -2 and 2.\n",
    "\n",
    "num_simulations = 2000\n",
    "sample_size     = 100\n",
    "\n",
    "vec_xbar = [None] * num_simulations\n",
    "\n",
    "for iteration in range(num_simulations):\n",
    "    vec_unif  = np.random.uniform(low = -2, high=2, size = sample_size)\n",
    "    vec_xbar[iteration] = vec_unif.mean()\n",
    "\n",
    "plt.hist(vec_xbar)\n",
    "plt.title(\"Distribution of Xbar with different simulated samples\")\n",
    "plt.ylabel(\"Frequency\")\n",
    "plt.xlabel(\"Values of Xbar\")\n",
    "plt.show()\n",
    "    "
   ]
  },
  {
   "attachments": {},
   "cell_type": "markdown",
   "metadata": {},
   "source": [
    "## <span style=\"color:darkblue\"> III. Nested Loops </span>"
   ]
  },
  {
   "attachments": {},
   "cell_type": "markdown",
   "metadata": {},
   "source": [
    "<font size = \"5\">\n",
    "\n",
    "What happens to $\\bar{X}$ with different $n$?\n",
    "\n",
    "- The Central Limit Theorem makes a prediction!\n",
    "- It says that the distribution will have a bell shape with higher $n$."
   ]
  },
  {
   "cell_type": "code",
   "execution_count": 35,
   "metadata": {},
   "outputs": [
    {
     "data": {
      "image/png": "[encoded data removed]",
      "text/plain": [
       "<Figure size 640x480 with 1 Axes>"
      ]
     },
     "metadata": {},
     "output_type": "display_data"
    },
    {
     "data": {
      "image/png": "[encoded data removed]",
      "text/plain": [
       "<Figure size 640x480 with 1 Axes>"
      ]
     },
     "metadata": {},
     "output_type": "display_data"
    },
    {
     "data": {
      "image/png": "[encoded data removed]",
      "text/plain": [
       "<Figure size 640x480 with 1 Axes>"
      ]
     },
     "metadata": {},
     "output_type": "display_data"
    }
   ],
   "source": [
    "# One way is to write this with repeated code chunks\n",
    "# We just repeat the code that we had above, with different sample sizes\n",
    "# Each time will start the process of generating new data from scratch.\n",
    "\n",
    "num_simulations = 2000\n",
    "\n",
    "# Simulate with sample size one\n",
    "sample_size = 1\n",
    "vec_xbar = [None] * num_simulations\n",
    "for iteration in range(num_simulations):\n",
    "    vec_unif  = np.random.uniform(low = -2, high=2, size = sample_size)\n",
    "    vec_xbar[iteration] = vec_unif.mean()\n",
    "plt.hist(vec_xbar)\n",
    "plt.title(\"Distribution of Xbar with size 1\")\n",
    "plt.ylabel(\"Frequency\")\n",
    "plt.xlabel(\"Values of Xbar\")\n",
    "plt.show()\n",
    "\n",
    "# Simulate with sample size 10\n",
    "sample_size = 10\n",
    "vec_xbar = [None] * num_simulations\n",
    "for iteration in range(num_simulations):\n",
    "    vec_unif  = np.random.uniform(low = -2, high=2, size = sample_size)\n",
    "    vec_xbar[iteration] = vec_unif.mean()\n",
    "plt.hist(vec_xbar)\n",
    "plt.title(\"Distribution of Xbar with size 10\")\n",
    "plt.ylabel(\"Frequency\")\n",
    "plt.xlabel(\"Values of Xbar\")\n",
    "plt.show()\n",
    "\n",
    "# Simulate with sample size 50\n",
    "sample_size = 50\n",
    "vec_xbar = [None] * num_simulations\n",
    "for iteration in range(num_simulations):\n",
    "    vec_unif  = np.random.uniform(low = -2, high=2, size = sample_size)\n",
    "    vec_xbar[iteration] = vec_unif.mean()\n",
    "plt.hist(vec_xbar)\n",
    "plt.title(\"Distribution of Xbar with size 50\")\n",
    "plt.ylabel(\"Frequency\")\n",
    "plt.xlabel(\"Values of Xbar\")\n",
    "plt.show()\n",
    "\n"
   ]
  },
  {
   "attachments": {},
   "cell_type": "markdown",
   "metadata": {},
   "source": [
    "<font size = \"5\">\n",
    "Nested Loops"
   ]
  },
  {
   "cell_type": "code",
   "execution_count": 11,
   "metadata": {},
   "outputs": [
    {
     "data": {
      "image/png": "[encoded data removed]",
      "text/plain": [
       "<Figure size 432x288 with 1 Axes>"
      ]
     },
     "metadata": {
      "needs_background": "light"
     },
     "output_type": "display_data"
    },
    {
     "data": {
      "image/png": "[encoded data removed]",
      "text/plain": [
       "<Figure size 432x288 with 1 Axes>"
      ]
     },
     "metadata": {
      "needs_background": "light"
     },
     "output_type": "display_data"
    },
    {
     "data": {
      "image/png": "[encoded data removed]",
      "text/plain": [
       "<Figure size 432x288 with 1 Axes>"
      ]
     },
     "metadata": {
      "needs_background": "light"
     },
     "output_type": "display_data"
    }
   ],
   "source": [
    "# To evaluate different sample size which just have to write a for-loop within \n",
    "# another for-loop\n",
    "\n",
    "# Write your own solution\n",
    "num_simulations = 2000\n",
    "sample_size_list = [1,10,50]\n",
    "\n",
    "for sample_size in sample_size_list:\n",
    "\n",
    "    # The following command a vector null values, of length \"num_simulations\"\n",
    "    vec_xbar = [None] * num_simulations\n",
    "    \n",
    "    #inner loop starts here\n",
    "    for iteration in range(num_simulations):\n",
    "            vec_chisqr  = np.random.chisquare(df = 1, size = sample_size)\n",
    "            vec_xbar[iteration] = vec_chisqr.mean()\n",
    "    # Inner loop ends here   \n",
    "         \n",
    "    plt.hist(vec_xbar)\n",
    "    plt.title(\"Distribution of Xbar when n is \" + str(sample_size))\n",
    "    plt.ylabel(\"Frequency\")\n",
    "    plt.xlabel(\"Values of Xbar\")\n",
    "    plt.show()\n",
    "    "
   ]
  },
  {
   "attachments": {},
   "cell_type": "markdown",
   "metadata": {},
   "source": [
    "<font size = \"5\">\n",
    "Try it yourself!\n",
    "\n",
    "- Repeat the above simulation with a few changes\n",
    "- Use a Chi-square distribution with (df = 1) instead of a normal"
   ]
  },
  {
   "cell_type": "code",
   "execution_count": 37,
   "metadata": {},
   "outputs": [],
   "source": [
    "# Write your own solution\n",
    "\n",
    "num_simulations = 2000\n",
    "sample_size_list = [1,10,50]\n",
    "\n",
    "for sample_size in sample_size_list:\n",
    "\n",
    "    # The following command a vector null values, of length \"num_simulations\"\n",
    "    vec_xbar = [None] * num_simulations\n",
    "    \n",
    "    for iteration in range(num_simulations):\n",
    "            vec_unif  = np.random.uniform(low = -2, high=2, size = sample_size)\n",
    "            vec_xbar[iteration] = vec_unif.mean()\n",
    "    plt.hist(vec_xbar)\n",
    "    plt.title(\"Distribution of Xbar when n is \" + str(sample_size))\n",
    "    plt.ylabel(\"Frequency\")\n",
    "    plt.xlabel(\"Values of Xbar\")\n",
    "    plt.show()\n",
    "\n",
    "\n",
    "\n",
    "\n",
    "\n"
   ]
  },
  {
   "attachments": {},
   "cell_type": "markdown",
   "metadata": {},
   "source": [
    "<font size = \"5\">\n",
    "\n",
    "Try it yourself!\n",
    "\n",
    "- Write code that puts all the figures in the same row"
   ]
  },
  {
   "cell_type": "code",
   "execution_count": 17,
   "metadata": {},
   "outputs": [
    {
     "ename": "TypeError",
     "evalue": "object of type 'int' has no len()",
     "output_type": "error",
     "traceback": [
      "\u001b[0;31m---------------------------------------------------------------------------\u001b[0m",
      "\u001b[0;31mTypeError\u001b[0m                                 Traceback (most recent call last)",
      "\u001b[0;32m/var/folders/ch/q4m8ht_100g0jt1nlg0n18tr0000gn/T/ipykernel_31692/3648537466.py\u001b[0m in \u001b[0;36m<module>\u001b[0;34m\u001b[0m\n\u001b[1;32m      5\u001b[0m \u001b[0msample_size\u001b[0m \u001b[0;34m=\u001b[0m \u001b[0;36m2000\u001b[0m\u001b[0;34m\u001b[0m\u001b[0;34m\u001b[0m\u001b[0m\n\u001b[1;32m      6\u001b[0m \u001b[0;34m\u001b[0m\u001b[0m\n\u001b[0;32m----> 7\u001b[0;31m \u001b[0mfig\u001b[0m\u001b[0;34m,\u001b[0m \u001b[0mlist_subplots\u001b[0m \u001b[0;34m=\u001b[0m \u001b[0mplt\u001b[0m\u001b[0;34m.\u001b[0m\u001b[0msubplot\u001b[0m\u001b[0;34m(\u001b[0m\u001b[0;36m1\u001b[0m\u001b[0;34m,\u001b[0m\u001b[0mlen\u001b[0m\u001b[0;34m(\u001b[0m\u001b[0msample_size\u001b[0m\u001b[0;34m)\u001b[0m\u001b[0;34m)\u001b[0m\u001b[0;34m\u001b[0m\u001b[0;34m\u001b[0m\u001b[0m\n\u001b[0m\u001b[1;32m      8\u001b[0m \u001b[0;34m\u001b[0m\u001b[0m\n\u001b[1;32m      9\u001b[0m \u001b[0;32mfor\u001b[0m \u001b[0mn\u001b[0m \u001b[0;32min\u001b[0m \u001b[0mrange\u001b[0m\u001b[0;34m(\u001b[0m\u001b[0mlen\u001b[0m\u001b[0;34m(\u001b[0m\u001b[0msample_size\u001b[0m\u001b[0;34m)\u001b[0m\u001b[0;34m)\u001b[0m\u001b[0;34m:\u001b[0m\u001b[0;34m\u001b[0m\u001b[0;34m\u001b[0m\u001b[0m\n",
      "\u001b[0;31mTypeError\u001b[0m: object of type 'int' has no len()"
     ]
    }
   ],
   "source": [
    "# Write your own solution\n",
    "\n",
    "num_simulations = 2000\n",
    "sample_size_list = [1,10,50]\n",
    "sample_size = 2000\n",
    "\n",
    "fig, list_subplots = plt.subplot(1,len(sample_size))\n",
    "\n",
    "for n in sample_size_list:\n",
    "\n",
    "    vec_xbar = [None] * num_simulation\n",
    "    for i in range(num_simulation):\n",
    "        chi_sqr = np.random.chisquare(df=1, sample_size =n)\n",
    "        vec_bar[1]=np.mean(chi_sqr)\n",
    "\n",
    "    list_subplots[n].hist(vec_xbar)\n",
    "    list_subplots[n].set_title[\"Sample size: \"+ str(n)]\n",
    "\n",
    "\n",
    "\n",
    "\n",
    "\n"
   ]
  },
  {
   "attachments": {},
   "cell_type": "markdown",
   "metadata": {},
   "source": [
    "## <span style=\"color:darkblue\"> IV. Loops + If/else </span>"
   ]
  },
  {
   "attachments": {},
   "cell_type": "markdown",
   "metadata": {},
   "source": [
    "<font size = \"5\">\n",
    "\n",
    "The proportion of \"True\" statements in a boolean list"
   ]
  },
  {
   "cell_type": "code",
   "execution_count": 26,
   "metadata": {},
   "outputs": [
    {
     "data": {
      "text/plain": [
       "0.4"
      ]
     },
     "execution_count": 26,
     "metadata": {},
     "output_type": "execute_result"
    }
   ],
   "source": [
    "# Define a list with True/False values\n",
    "list_boolean = [True,False,True,False,False]\n",
    "np.mean(list_boolean)\n"
   ]
  },
  {
   "attachments": {},
   "cell_type": "markdown",
   "metadata": {},
   "source": [
    "<font size = \"5\">\n",
    "\n",
    "Let \"sample_stdv\" be the sample standard deviation of $X_i$.\n",
    "\n",
    "\n"
   ]
  },
  {
   "cell_type": "code",
   "execution_count": 39,
   "metadata": {},
   "outputs": [
    {
     "name": "stdout",
     "output_type": "stream",
     "text": [
      "2.0124667183105562\n",
      "5.027506440619916\n"
     ]
    }
   ],
   "source": [
    "# Parameters of a normal random variable\n",
    "n                 = 10000\n",
    "population_mean   = 2\n",
    "population_stdv   = 5\n",
    "\n",
    "# Create random variable and produce summary statistics\n",
    "X           = np.random.normal(loc = 2,scale = 5,size = n)\n",
    "Xbar        = X.mean()\n",
    "sample_stdv = X.std()\n",
    "\n",
    "# Check that the sample and standard deviation are close to their\n",
    "# population values\n",
    "print(Xbar)\n",
    "print(sample_stdv)\n"
   ]
  },
  {
   "attachments": {},
   "cell_type": "markdown",
   "metadata": {},
   "source": [
    "<font size = \"5\">\n",
    "\n",
    "A 95\\% normal confidence interval is defined by $\\ldots$\n",
    "\n",
    "- lower_bound = $\\bar{X} -1.96 \\times  \\frac{\\text{sample\\_stdv}}{\\sqrt{n}}$.\n",
    "- upper_bound = $\\bar{X} + 1.96 \\times \\frac{\\text{sample\\_stdv}}{\\sqrt{n}}$."
   ]
  },
  {
   "cell_type": "code",
   "execution_count": 22,
   "metadata": {},
   "outputs": [],
   "source": [
    "# Compute new variables for the upper and lower bound\n",
    "\n",
    "lower_bound = Xbar - 1.96*(sample_stdv / np.sqrt(n))\n",
    "upper_bound = Xbar + 1.96*(sample_stdv / np.sqrt(n))\n"
   ]
  },
  {
   "attachments": {},
   "cell_type": "markdown",
   "metadata": {},
   "source": [
    "<font size = \"5\">\n",
    "Try it yourself! Write an if/else that checks whether <br>\n",
    "\n",
    "lower_bound $\\quad \\le \\quad $ population_mean $\\quad \\le \\quad$ upper_bound\n"
   ]
  },
  {
   "cell_type": "code",
   "execution_count": 28,
   "metadata": {},
   "outputs": [],
   "source": [
    "# Write your own code\n",
    "\n",
    "\n",
    "\n",
    "\n",
    "\n",
    "\n"
   ]
  },
  {
   "attachments": {},
   "cell_type": "markdown",
   "metadata": {},
   "source": [
    "<font size =\"5\">\n",
    "\n",
    "Try it yourself! Test whether this is a 95% confidence interval\n",
    "\n"
   ]
  },
  {
   "attachments": {},
   "cell_type": "markdown",
   "metadata": {},
   "source": [
    "<font size = \"3\">\n",
    "\n",
    "Procedure:\n",
    "- Create a variable called \"num_simulations\" with value 1000\n",
    "- Create the simulation parameters \"n\", \"population_mean\", \"populations_stdv\".\n",
    "- Create an empty vector called \"list_test_confidenceinterval\".\n",
    "- Create a loop. At each iteration:\n",
    "\n",
    "    - Create a vector of normal random variables of size \"n\".\n",
    "    - Create a variable \"test_confidenceinterval\", which tests:\n",
    "    \n",
    "        lower_bound $\\quad \\le \\quad $ population_mean $\\quad \\le \\quad$ upper_bound\n",
    "    - Append \"test_confidenceinterval\" to the above list\n",
    "    \n",
    "- Compute the mean of \"list_test_confidenceinterval\"\n",
    "\n",
    "Note: The final result should be close to 95%.\n",
    "\n"
   ]
  },
  {
   "cell_type": "code",
   "execution_count": 32,
   "metadata": {},
   "outputs": [],
   "source": [
    "# Write your own  code:\n",
    "\n",
    "\n",
    "\n",
    "\n",
    "\n",
    "\n",
    "\n"
   ]
  }
 ],
 "metadata": {
  "kernelspec": {
   "display_name": "base",
   "language": "python",
   "name": "python3"
  },
  "language_info": {
   "codemirror_mode": {
    "name": "ipython",
    "version": 3
   },
   "file_extension": ".py",
   "mimetype": "text/x-python",
   "name": "python",
   "nbconvert_exporter": "python",
   "pygments_lexer": "ipython3",
   "version": "3.9.7"
  },
  "orig_nbformat": 4,
  "vscode": {
   "interpreter": {
    "hash": "2ae8b3bc99df9bdfbf628dcf9c320a3efd18eb9a7555fb3a2fdf71764bae08ee"
   }
  }
 },
 "nbformat": 4,
 "nbformat_minor": 2
}
